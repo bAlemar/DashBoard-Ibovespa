{
 "cells": [
  {
   "cell_type": "code",
   "execution_count": 21,
   "metadata": {},
   "outputs": [],
   "source": [
    "## Bibliotecas\n",
    "import yfinance\n",
    "import plotly_express as px\n",
    "import plotly.graph_objects as go\n",
    "import pandas as pd\n",
    "import requests\n",
    "from bs4 import BeautifulSoup"
   ]
  },
  {
   "cell_type": "code",
   "execution_count": 20,
   "metadata": {},
   "outputs": [],
   "source": [
    "# Ativos: WEGE3, PETR4 e CEAB3\n",
    "lista_ativo = ['WEGE3','PETR4','CEAB3']\n",
    "# Primeiro montar gráfico de candlestick \n",
    "# Depois fazer scraping e pegar informações do Brazil Journal"
   ]
  },
  {
   "cell_type": "code",
   "execution_count": null,
   "metadata": {},
   "outputs": [],
   "source": [
    "# Desenvolvimento do Gráfico\n",
    "\n",
    "# Carregando dados da yfinance\n",
    "df = yfinance.download(lista_ativo[1] + '.SA',\n",
    "                       start='2023-01-01',\n",
    "                       )\n",
    "df['Adj Close'] = df['Adj Close'] - 0.001\n",
    "fig = go.Figure(data=[go.Candlestick(x=df.index,\n",
    "                open=df['Open'], high=df['High'],\n",
    "                low=df['Low'], close=df['Close'])\n",
    "                     ])\n",
    "\n",
    "fig.update_layout(xaxis_rangeslider_visible=False)\n",
    "fig.show()\n",
    "\n",
    "#Fonte:https://plotly.com/python/candlestick-charts/"
   ]
  },
  {
   "cell_type": "code",
   "execution_count": 24,
   "metadata": {},
   "outputs": [
    {
     "data": {
      "text/html": [
       "<div>\n",
       "<style scoped>\n",
       "    .dataframe tbody tr th:only-of-type {\n",
       "        vertical-align: middle;\n",
       "    }\n",
       "\n",
       "    .dataframe tbody tr th {\n",
       "        vertical-align: top;\n",
       "    }\n",
       "\n",
       "    .dataframe thead th {\n",
       "        text-align: right;\n",
       "    }\n",
       "</style>\n",
       "<table border=\"1\" class=\"dataframe\">\n",
       "  <thead>\n",
       "    <tr style=\"text-align: right;\">\n",
       "      <th></th>\n",
       "      <th>Open</th>\n",
       "      <th>High</th>\n",
       "      <th>Low</th>\n",
       "      <th>Close</th>\n",
       "      <th>Adj Close</th>\n",
       "      <th>Volume</th>\n",
       "    </tr>\n",
       "    <tr>\n",
       "      <th>Date</th>\n",
       "      <th></th>\n",
       "      <th></th>\n",
       "      <th></th>\n",
       "      <th></th>\n",
       "      <th></th>\n",
       "      <th></th>\n",
       "    </tr>\n",
       "  </thead>\n",
       "  <tbody>\n",
       "    <tr>\n",
       "      <th>2023-01-02</th>\n",
       "      <td>23.540001</td>\n",
       "      <td>23.809999</td>\n",
       "      <td>22.799999</td>\n",
       "      <td>22.920000</td>\n",
       "      <td>17.760120</td>\n",
       "      <td>78424700</td>\n",
       "    </tr>\n",
       "    <tr>\n",
       "      <th>2023-01-03</th>\n",
       "      <td>22.940001</td>\n",
       "      <td>23.100000</td>\n",
       "      <td>22.129999</td>\n",
       "      <td>22.340000</td>\n",
       "      <td>17.310694</td>\n",
       "      <td>96750300</td>\n",
       "    </tr>\n",
       "    <tr>\n",
       "      <th>2023-01-04</th>\n",
       "      <td>21.959999</td>\n",
       "      <td>23.590000</td>\n",
       "      <td>21.830000</td>\n",
       "      <td>23.049999</td>\n",
       "      <td>17.860853</td>\n",
       "      <td>129504000</td>\n",
       "    </tr>\n",
       "    <tr>\n",
       "      <th>2023-01-05</th>\n",
       "      <td>23.340000</td>\n",
       "      <td>24.040001</td>\n",
       "      <td>23.150000</td>\n",
       "      <td>23.879999</td>\n",
       "      <td>18.504000</td>\n",
       "      <td>73886000</td>\n",
       "    </tr>\n",
       "    <tr>\n",
       "      <th>2023-01-06</th>\n",
       "      <td>23.940001</td>\n",
       "      <td>24.320000</td>\n",
       "      <td>23.549999</td>\n",
       "      <td>23.740000</td>\n",
       "      <td>18.395517</td>\n",
       "      <td>51851500</td>\n",
       "    </tr>\n",
       "    <tr>\n",
       "      <th>...</th>\n",
       "      <td>...</td>\n",
       "      <td>...</td>\n",
       "      <td>...</td>\n",
       "      <td>...</td>\n",
       "      <td>...</td>\n",
       "      <td>...</td>\n",
       "    </tr>\n",
       "    <tr>\n",
       "      <th>2023-12-28</th>\n",
       "      <td>37.230000</td>\n",
       "      <td>37.360001</td>\n",
       "      <td>37.040001</td>\n",
       "      <td>37.240002</td>\n",
       "      <td>37.240002</td>\n",
       "      <td>21421900</td>\n",
       "    </tr>\n",
       "    <tr>\n",
       "      <th>2024-01-02</th>\n",
       "      <td>37.439999</td>\n",
       "      <td>37.889999</td>\n",
       "      <td>37.400002</td>\n",
       "      <td>37.779999</td>\n",
       "      <td>37.779999</td>\n",
       "      <td>24043800</td>\n",
       "    </tr>\n",
       "    <tr>\n",
       "      <th>2024-01-03</th>\n",
       "      <td>37.799999</td>\n",
       "      <td>39.119999</td>\n",
       "      <td>37.669998</td>\n",
       "      <td>38.959999</td>\n",
       "      <td>38.959999</td>\n",
       "      <td>52300200</td>\n",
       "    </tr>\n",
       "    <tr>\n",
       "      <th>2024-01-04</th>\n",
       "      <td>39.119999</td>\n",
       "      <td>39.349998</td>\n",
       "      <td>38.509998</td>\n",
       "      <td>38.630001</td>\n",
       "      <td>38.630001</td>\n",
       "      <td>45344900</td>\n",
       "    </tr>\n",
       "    <tr>\n",
       "      <th>2024-01-05</th>\n",
       "      <td>38.869999</td>\n",
       "      <td>39.139999</td>\n",
       "      <td>38.410000</td>\n",
       "      <td>38.720001</td>\n",
       "      <td>38.720001</td>\n",
       "      <td>35783700</td>\n",
       "    </tr>\n",
       "  </tbody>\n",
       "</table>\n",
       "<p>252 rows × 6 columns</p>\n",
       "</div>"
      ],
      "text/plain": [
       "                 Open       High        Low      Close  Adj Close     Volume\n",
       "Date                                                                        \n",
       "2023-01-02  23.540001  23.809999  22.799999  22.920000  17.760120   78424700\n",
       "2023-01-03  22.940001  23.100000  22.129999  22.340000  17.310694   96750300\n",
       "2023-01-04  21.959999  23.590000  21.830000  23.049999  17.860853  129504000\n",
       "2023-01-05  23.340000  24.040001  23.150000  23.879999  18.504000   73886000\n",
       "2023-01-06  23.940001  24.320000  23.549999  23.740000  18.395517   51851500\n",
       "...               ...        ...        ...        ...        ...        ...\n",
       "2023-12-28  37.230000  37.360001  37.040001  37.240002  37.240002   21421900\n",
       "2024-01-02  37.439999  37.889999  37.400002  37.779999  37.779999   24043800\n",
       "2024-01-03  37.799999  39.119999  37.669998  38.959999  38.959999   52300200\n",
       "2024-01-04  39.119999  39.349998  38.509998  38.630001  38.630001   45344900\n",
       "2024-01-05  38.869999  39.139999  38.410000  38.720001  38.720001   35783700\n",
       "\n",
       "[252 rows x 6 columns]"
      ]
     },
     "execution_count": 24,
     "metadata": {},
     "output_type": "execute_result"
    }
   ],
   "source": [
    "df"
   ]
  },
  {
   "cell_type": "code",
   "execution_count": 28,
   "metadata": {},
   "outputs": [],
   "source": [
    "# Scraping\n",
    "#Link https://braziljournal.com/?s={nome ativo/nome empresa}\n",
    "\n",
    "# A princípio vamos botar WEG, uma vez que WEGE só retorna uma pesquisa\n",
    "\n",
    "\n",
    "#Request\n",
    "url = 'https://braziljournal.com/?s=weg'\n",
    "\n",
    "r = requests.get(url)\n",
    "\n",
    "#Scraping dos dados\n",
    "soup = BeautifulSoup(r.text,'html.parser')\n"
   ]
  },
  {
   "cell_type": "code",
   "execution_count": 75,
   "metadata": {},
   "outputs": [
    {
     "name": "stdout",
     "output_type": "stream",
     "text": [
      "Estratégia corporativa\n",
      "WEG faz sua maior aquisição; investe R$ 2 bi para crescer em motores e geradores\n",
      "https://braziljournal.com/weg-faz-sua-maior-aquisicao-investe-r-2-bi-para-crescer-em-motores-e-geradores/\n",
      "WEG\n",
      "WEG faz parcerias de R$ 1,4 bi em autogeração eólica\n",
      "https://braziljournal.com/weg-faz-parcerias-de-r-14-bi-em-autogeracao-eolica/\n",
      "Research\n",
      "WEG leva um (raro) downgrade no Itaú\n",
      "https://braziljournal.com/weg-leva-um-raro-downgrade-no-itau/\n"
     ]
    }
   ],
   "source": [
    "todas_noticiais = soup.find_all(class_='wrap-bj')\n",
    "lista_titulo = []\n",
    "lista_link = []\n",
    "lista_categoria = []\n",
    "for i in todas_noticiais:\n",
    "    elementos_h2 = i.find_all('h2', class_='boxarticle-infos-title')[:3]\n",
    "    elemento_p = i.find_all('p', class_='boxarticle-infos-tag')[:3]\n",
    "   # Agora você pode trabalhar com os elementos h2 e p encontrados\n",
    "  \n",
    "    for elemento_h2, elemento_p in zip(elementos_h2, elemento_p):\n",
    "  \n",
    "        \n",
    "        lista_titulo.append(elemento_h2.a.text.strip())\n",
    "        lista_link.append(elemento_h2.a['href'])\n",
    "        lista_categoria.append(elemento_p.a.text.strip())\n",
    "\n",
    "        # Imprime o texto dentro da tag <a> dentro de 'p'\n",
    "        print(elemento_p.a.text.strip())\n",
    "        # Imprime o valor do atributo 'href' da tag <a> dentro de 'p'    \n",
    "        # Imprime o texto dentro da tag <a> dentro de 'h2'\n",
    "        print(elemento_h2.a.text.strip())\n",
    "        # Imprime o valor do atributo 'href' da tag <a> dentro de 'h2'\n",
    "        print(elemento_h2.a['href'])\n",
    "        "
   ]
  },
  {
   "cell_type": "code",
   "execution_count": 76,
   "metadata": {},
   "outputs": [
    {
     "name": "stdout",
     "output_type": "stream",
     "text": [
      "Categoria:Estratégia corporativa\n",
      "Titulo:WEG faz sua maior aquisição; investe R$ 2 bi para crescer em motores e geradores\n",
      "Link:https://braziljournal.com/weg-faz-sua-maior-aquisicao-investe-r-2-bi-para-crescer-em-motores-e-geradores/\n"
     ]
    }
   ],
   "source": [
    "print(f'Categoria:{lista_categoria[0]}')\n",
    "print(f'Titulo:{lista_titulo[0]}')\n",
    "print(f'Link:{lista_link[0]}')"
   ]
  },
  {
   "cell_type": "code",
   "execution_count": 19,
   "metadata": {},
   "outputs": [],
   "source": [
    "# Criando função de Scraping da Notícias\n",
    "def scraping_noticia(stock_name,qntd_noticias = 3):\n",
    "    #Request\n",
    "    url = f'https://braziljournal.com/?s={stock_name}'\n",
    "\n",
    "    r = requests.get(url)\n",
    "\n",
    "    #Scraping dos dados\n",
    "    soup = BeautifulSoup(r.text,'html.parser')\n",
    "    \n",
    "    #Div do html que contém todas as noticias\n",
    "    todas_noticias = soup.find_all(class_='wrap-bj')\n",
    "\n",
    "    #Dicionário para armazenar as informações:\n",
    "    dict_url = {\n",
    "        'titulo' : [],\n",
    "        'link' : [],\n",
    "        'categoria' : []\n",
    "    }\n",
    "    \n",
    "    #Looping para interagir com cada notícia\n",
    "    for i in todas_noticias:\n",
    "        \n",
    "        # Titulo e url    \n",
    "        elementos_titulo = i.find_all('h2', class_='boxarticle-infos-title')[:qntd_noticias]\n",
    "        \n",
    "        # Tópico da noticia \n",
    "        elemento_categoria = i.find_all('p', class_='boxarticle-infos-tag')[:qntd_noticias]\n",
    "    \n",
    "        # Looping com os elementos para pegar informações de cada noticia\n",
    "        for elementos_titulo, elemento_categoria in zip(elementos_titulo, elemento_categoria):\n",
    "            dict_url['titulo'].append(elementos_titulo.a.text.strip())\n",
    "            dict_url['link'].append(elementos_titulo.a['href'])\n",
    "            dict_url['categoria'].append(elemento_categoria.a.text.strip())\n",
    "    return dict_url"
   ]
  },
  {
   "cell_type": "code",
   "execution_count": 22,
   "metadata": {},
   "outputs": [],
   "source": [
    "resultados = scraping_noticia('C%26A')"
   ]
  },
  {
   "cell_type": "code",
   "execution_count": 23,
   "metadata": {},
   "outputs": [
    {
     "data": {
      "text/plain": [
       "{'titulo': ['C&A surpreende ao dobrar lucro e elevar Ebitda; ações disparam 16%',\n",
       "  'C&A dispara pós-balanço; controle de caixa será crucial para 2023, diz CEO',\n",
       "  'A C&A está barata e a estratégia, correta, diz a XP.  Já o macro…'],\n",
       " 'link': ['https://braziljournal.com/play/c-acoes-disparam-13/',\n",
       "  'https://braziljournal.com/play/c-controle-de-caixa-sera-crucial-para-2023-diz-ceo/',\n",
       "  'https://braziljournal.com/a-ca-esta-barata-e-a-estrategia-correta-diz-a-xp-ja-o-macro/'],\n",
       " 'categoria': ['Varejo & Consumo', 'Varejo & Consumo', 'Research']}"
      ]
     },
     "execution_count": 23,
     "metadata": {},
     "output_type": "execute_result"
    }
   ],
   "source": [
    "resultados"
   ]
  },
  {
   "cell_type": "code",
   "execution_count": 86,
   "metadata": {},
   "outputs": [],
   "source": [
    "options_stock = ['WEGE3.SA','PETR4.SA','CEAB3.SA']\n",
    "simbolo_pesquisa = ['WEG','petrobras%20ação','C%26A']\n"
   ]
  },
  {
   "cell_type": "code",
   "execution_count": 87,
   "metadata": {},
   "outputs": [
    {
     "data": {
      "text/plain": [
       "0"
      ]
     },
     "execution_count": 87,
     "metadata": {},
     "output_type": "execute_result"
    }
   ],
   "source": [
    "options_stock.index('WEGE3.SA')"
   ]
  },
  {
   "cell_type": "code",
   "execution_count": 88,
   "metadata": {},
   "outputs": [],
   "source": [
    "from scraping import scraping_noticia"
   ]
  },
  {
   "cell_type": "code",
   "execution_count": 89,
   "metadata": {},
   "outputs": [],
   "source": [
    "stock = 'WEGE3.SA'\n",
    "pos = options_stock.index(f'{stock}')\n",
    "palavra_chave = simbolo_pesquisa[pos]\n",
    "dict_resultado = scraping_noticia(palavra_chave)\n"
   ]
  },
  {
   "cell_type": "markdown",
   "metadata": {},
   "source": [
    "## Fazendo Scraping do TEXTO das Notícias"
   ]
  },
  {
   "cell_type": "code",
   "execution_count": null,
   "metadata": {},
   "outputs": [],
   "source": [
    "# Se tiver\n",
    "# /play/ -> boxarticle-infos-text\n",
    "# c.c -> "
   ]
  },
  {
   "cell_type": "code",
   "execution_count": 42,
   "metadata": {},
   "outputs": [],
   "source": [
    "lista_link = resultados['link']\n",
    "#Microuniverso para depois replicar e ver resultado\n",
    "r = requests.get(lista_link[2])\n",
    "\n",
    "soup = BeautifulSoup(r.text,'html.parser')"
   ]
  },
  {
   "cell_type": "code",
   "execution_count": 43,
   "metadata": {},
   "outputs": [],
   "source": [
    "noticia = soup.find_all(class_='boxarticle-infos-text')[0]\n",
    "paragrafos = noticia.find_all('p')\n",
    "for parag in paragrafos:\n",
    "    print(parag.text)"
   ]
  },
  {
   "cell_type": "code",
   "execution_count": null,
   "metadata": {},
   "outputs": [],
   "source": [
    "noticia = soup.find_all(class_='post-content-text')[0]\n",
    "paragrafos = noticia.find_all('p')\n",
    "for parag in paragrafos:\n",
    "    print(parag.text)"
   ]
  },
  {
   "cell_type": "markdown",
   "metadata": {},
   "source": [
    "## Analise de Sentimento das Noticias\n",
    "##### OBS: Tem que passar todo o texto para inglês. Ou seja, devemos utilizar alguma api de tradução de texto se quisermos fazer algo automático."
   ]
  },
  {
   "cell_type": "code",
   "execution_count": 1,
   "metadata": {},
   "outputs": [],
   "source": [
    "## Textos a serem analisados:\n",
    "#OBS texto_analyze foi traduzido pelo chat gpt...\n",
    "texto_analyze_1 = 'A WEG está comprando a divisão de motores industriais e geradores da Regal Rexnord — o maior M&A de sua história, e uma transação que vai aumentar a presença internacional da companhia brasileira em 20% com marcas fortes e de nicho.  A WEG está avaliando os ativos da Regal — uma empresa americana listada na NYSE com market cap de US$ 9,6 bilhões — a um enterprise value de US$ 400 milhões. O pagamento será feito em dinheiro assim que a companhia obtiver as aprovações regulatórias, o que está previsto para o início do ano que vem.  A transação não deve ter um impacto relevante na estrutura de capital da WEG, que após o desembolso continuará com uma posição de caixa líquido de R$ 1 bi. O ‘carve out’ da Regal inclui 10 fábricas em sete países (EUA, México, China, Índia, Itália, Holanda e Canadá), além de marcas fortes e um time de cerca de 2.800 funcionários. A WEG disse que a distribuição geográfica dos ativos é complementar à sua, e vai ajudar a aumentar a escala do negócio e gerar eficiências de custo.  A maior parte da receita da operação adquirida vem da fabricação de motores industriais de baixa tensão (75%), e o restante de geradores elétricos. “São três marcas muito tradicionais nos Estados Unidos e na Europa, e com bastante aderência com o cliente final,” Alberto Kuba, o diretor da WEG Motores Industriais, disse numa call com analistas agora há pouco.  Segundo ele, as marcas Cemp e Rotor têm operações “bem interessantes” de motores de nicho nos Estados Unidos e Europa — e a transação vai “ajudar a entrar em mercados que são mais difíceis, como o de óleo e gás e naval.”  “São mercados em que a WEG já tem os produtos, mas como eles dependem de muitas homologações locais, o crescimento é muito lento. A Regal já fez esse movimento anos atrás, ganhando esses mercados que são de difícil penetração.” Segundo o executivo, há um overlap muito baixo de clientes entre as duas operações de motores industriais. Na Índia, por exemplo, a WEG entrou recentemente com uma linha de combate de motores de uso geral. “Com a aquisição vamos ter um portfólio completo de motores e totalmente complementar,” disse ele.  Os ativos da Regal que estão sendo comprados pela WEG tiveram receita líquida de US$ 541 milhões no ano passado, e EBITDA de US$ 51 milhões (margem de 9,5%). Para efeito de comparação, a WEG fez uma receita de US$ 6 bilhões no mesmo período, e opera com uma margem na casa dos 18,7%.  O valor pago pela WEG implica um múltiplo de 7,7x EV/EBITDA do ano passado, em comparação aos 20x que a WEG negocia hoje na Bolsa.  O JP Morgan disse que a aquisição é positiva porque mostra a “capacidade da WEG de continuar crescendo, ainda que inorganicamente, e traz sinergias potenciais importantes (tanto comerciais quanto técnicas e de custo).” O banco nota que, no curto prazo, a transação terá um impacto negativo de 0,8 ponto percentual na margem EBITDA da WEG, dada a margem muito menor da Regal. “Mas vemos um impacto agregado positivo de entre 3% e 4%,” escreveram os analistas.  O CFO da WEG, André Luis Rodrigues, disse que a companhia espera levar a margem EBITDA das operações da Regal para um patamar próximo às margens que a WEG tem neste países e mercados.  Essa melhora nas margens virá das sinergias — com a integração dos negócios — e também de um uso maior da capacidade da Regal. Hoje, as 10 fábricas que estão sendo adquiridas operam com uma ociosidade de cerca de 50%, e a ideia da WEG é levá-las a 100%.  “Teoricamente, temos condições de dobrar o volume produzido hoje apenas com a estrutura que já existe, sem fazer nenhum grande investimento adicional,” disse Kuba.  O executivo ressaltou ainda que há uma oportunidade grande de verticalização de parte dessas operações, com a fundição que a WEG tem no México passando a fornecer produtos para as fábricas da Regal nos EUA e México.  Segundo ele, a fundição no México tem capacidade ociosa que pode ser usada para atender essas novas fábricas, sem precisar de mais capex.  Para a vertical de geradores da WEG, a transação de hoje é um “game changer,” nas palavras de João Paulo da Silva, o diretor da WEG Energia.  “A WEG tem uma posição de liderança em geradores no Brasil, mas no exterior nossa posição era muito pequena. Temos poucos clientes fora do Brasil,” disse ele. “A aquisição da Marathon — que é uma marca consolidada no Canadá e EUA — vai nos posicionar num novo patamar em termos de market share. Vamos passar a ser um player importante no mundo, principalmente na América do Norte.” Assim como em motores industriais, a fábrica de geradores da Regal também estava largamente ociosa. Enquanto em motores a ociosidade tinha a ver com uma falta de foco da Regal nesse segmento, em geradores isso aconteceu porque a companhia construiu recentemente novas fábricas na China e México, com uma capacidade muito maior.'\n",
    "texto_1_chat_gpt = \"\"\"\n",
    "WEG is acquiring the industrial motors and generators division of Regal Rexnord — the largest M&A deal in its history, and a transaction that will increase the Brazilian company's international presence by 20% with strong and niche brands. WEG is evaluating Regal's assets — an American company listed on the NYSE with a market cap of $9.6 billion — at an enterprise value of $400 million. The payment will be made in cash once the company obtains regulatory approvals, expected in the beginning of next year.\n",
    "\n",
    "The transaction is not expected to have a significant impact on WEG's capital structure, which will maintain a net cash position of R$1 billion after the disbursement. The carve-out from Regal includes 10 factories in seven countries (USA, Mexico, China, India, Italy, Netherlands, and Canada), along with strong brands and a team of about 2,800 employees. WEG stated that the geographical distribution of the acquired assets is complementary to its own, helping to increase business scale and generate cost efficiencies.\n",
    "\n",
    "The majority of the acquired operation's revenue comes from the manufacturing of low-voltage industrial motors (75%), with the remainder from electrical generators. Alberto Kuba, the director of WEG Industrial Motors, mentioned in a recent analyst call that the Cemp and Rotor brands have \"very interesting\" niche motor operations in the USA and Europe. The transaction will help WEG enter markets that are more challenging, such as oil and gas and naval.\n",
    "\n",
    "Kuba highlighted that there is very low customer overlap between the two industrial motor operations. In India, for example, WEG recently entered with a line of general-purpose motors. \"With the acquisition, we will have a complete and totally complementary portfolio,\" he said.\n",
    "\n",
    "The Regal assets being acquired by WEG had a net revenue of $541 million last year, with an EBITDA of $51 million (9.5% margin). For comparison, WEG had a revenue of $6 billion in the same period, operating with a margin around 18.7%. The amount paid by WEG implies a multiple of 7.7x EV/EBITDA for the last year, compared to the 20x that WEG is currently trading on the stock exchange.\n",
    "\n",
    "JP Morgan stated that the acquisition is positive because it shows WEG's \"ability to continue growing, even inorganically, and brings potential important synergies (both commercial and technical and cost).\" The bank noted that, in the short term, the transaction will have a negative impact of 0.8 percentage points on WEG's EBITDA margin, given the much lower margin of Regal. \"But we see an aggregate positive impact of between 3% and 4%,\" the analysts wrote.\n",
    "\n",
    "WEG's CFO, André Luis Rodrigues, said the company expects to bring the EBITDA margin of Regal's operations to a level close to the margins that WEG has in these countries and markets. This margin improvement will come from synergies with business integration and a greater use of Regal's capacity. Currently, the 10 acquired factories operate with an idleness of about 50%, and WEG's idea is to bring them to 100%. \"Theoretically, we have the conditions to double the volume produced today with the existing structure, without making any major additional investment,\" said Kuba.\n",
    "\n",
    "The executive also emphasized that there is a significant opportunity for vertical integration of part of these operations, with the foundry that WEG has in Mexico supplying products to Regal's factories in the USA and Mexico. According to him, the foundry in Mexico has idle capacity that can be used to serve these new factories, without the need for additional capex.\n",
    "\n",
    "For WEG's generator division, today's transaction is a \"game changer,\" in the words of João Paulo da Silva, director of WEG Energia. \"WEG has a leadership position in generators in Brazil, but abroad our position was very small. We have few customers outside Brazil,\" he said. \"The acquisition of Marathon — which is a consolidated brand in Canada and the USA — will position us at a new level in terms of market share. We will become a significant player worldwide, especially in North America.\" Similar to industrial motors, Regal's generator factory was also largely idle. While in motors, idleness was due to a lack of focus by Regal in that segment, in generators, this happened because the company recently built new factories in China and Mexico with much higher capacity.\n",
    "\n",
    "\"\"\"\n",
    "texto_analyze_2 = 'A WEG fechou duas parcerias para a autoprodução de energia eólica — um movimento que deve ajudar a gigante industrial a reduzir seus custos com eletricidade ao mesmo tempo em que endereça suas metas de sustentabilidade. A primeira parceria foi feita com a Alupar.  A WEG virou sócia da companhia de transmissão e geração num parque eólico no Rio Grande do Norte, o AW Santa Régia. Esse parque tem capacidade de 37,8 MW e vai começar a operar em janeiro do ano que vem. A WEG fechou um contrato de compra de energia de 18 anos no valor de R$ 460 milhões. O parque vai entregar cerca de 15 MW de energia. O segundo acordo foi feito com a 2W Ecobank, e envolve os parques eólicos Anemus I, II e III, também no Rio Grande do Norte. A WEG fechou um contrato de 20 anos no valor de R$ 970 milhões; os três parques vão entregar 30 MW de energia para a companhia.  Daniel Godinho, o diretor de sustentabilidade e relações institucionais da WEG, disse ao Brazil Journal que os dois projetos vão levar para 90% o uso de energias renováveis nas fábricas da companhia no Brasil. “Também estamos avançando em projetos nas nossas operações no exterior. Na China e na Índia já vamos atingir 50% e 90% de energia renovável, por exemplo,” disse ele. “Com todos esses movimentos, o grupo WEG vai atingir globalmente 75% de consumo de energia com fontes renováveis, em comparação aos 15% de hoje.” A Weg tem 52 fábricas em 15 países e o objetivo da companhia é que 100% de toda a energia usada por elas venha de fontes renováveis no modelo de autogeração.  Segundo Daniel, as parcerias de hoje vão ao encontro das metas de sustentabilidade da WEG, que se comprometeu no ano passado a reduzir em 52% suas emissões de CO2 até 2030 e a chegar à net zero até 2050. Os investimentos, no entanto, também devem ajudar a companhia a reduzir seus custos com energia, como notou o BTG Pactual. “Temos uma visão positiva da iniciativa porque ela visa otimizar os custos de energia em suas fábricas para aumentar a eficiência operacional,” escreveu o analista Lucas Marquiori. “Os custos com energia são um elemento significativo das fábricas da WEG, e as economias que virão com esses projetos podem contribuir para uma geração de valor adicional no longo prazo.” Daniel, da WEG, também disse que um aspecto interessante das duas parcerias é “que fomos capazes de usar nossa própria tecnologia nos projetos.” Tanto o parque da Alupar quanto o da 2w usam aerogeradores produzidos pela WEG. No total, os parques terão 42 aerogeradores.'\n",
    "texto_analyze_3 = 'WEG faz parcerias de R$ 1,4 bi em autogeração eólica'\n"
   ]
  },
  {
   "cell_type": "code",
   "execution_count": 2,
   "metadata": {},
   "outputs": [
    {
     "name": "stdout",
     "output_type": "stream",
     "text": [
      "A WEG está comprando a divisão de motores industriais e geradores da Regal Rexnord — o maior M&A de sua história, e uma transação que vai aumentar a presença internacional da companhia brasileira em 20% com marcas fortes e de nicho.  A WEG está avaliando os ativos da Regal — uma empresa americana listada na NYSE com market cap de US$ 9,6 bilhões — a um enterprise value de US$ 400 milhões. O pagamento será feito em dinheiro assim que a companhia obtiver as aprovações regulatórias, o que está previsto para o início do ano que vem.  A transação não deve ter um impacto relevante na estrutura de capital da WEG, que após o desembolso continuará com uma posição de caixa líquido de R$ 1 bi. O ‘carve out’ da Regal inclui 10 fábricas em sete países (EUA, México, China, Índia, Itália, Holanda e Canadá), além de marcas fortes e um time de cerca de 2.800 funcionários. A WEG disse que a distribuição geográfica dos ativos é complementar à sua, e vai ajudar a aumentar a escala do negócio e gerar eficiências de custo.  A maior parte da receita da operação adquirida vem da fabricação de motores industriais de baixa tensão (75%), e o restante de geradores elétricos. “São três marcas muito tradicionais nos Estados Unidos e na Europa, e com bastante aderência com o cliente final,” Alberto Kuba, o diretor da WEG Motores Industriais, disse numa call com analistas agora há pouco.  Segundo ele, as marcas Cemp e Rotor têm operações “bem interessantes” de motores de nicho nos Estados Unidos e Europa — e a transação vai “ajudar a entrar em mercados que são mais difíceis, como o de óleo e gás e naval.”  “São mercados em que a WEG já tem os produtos, mas como eles dependem de muitas homologações locais, o crescimento é muito lento. A Regal já fez esse movimento anos atrás, ganhando esses mercados que são de difícil penetração.” Segundo o executivo, há um overlap muito baixo de clientes entre as duas operações de motores industriais. Na Índia, por exemplo, a WEG entrou recentemente com uma linha de combate de motores de uso geral. “Com a aquisição vamos ter um portfólio completo de motores e totalmente complementar,” disse ele.  Os ativos da Regal que estão sendo comprados pela WEG tiveram receita líquida de US$ 541 milhões no ano passado, e EBITDA de US$ 51 milhões (margem de 9,5%). Para efeito de comparação, a WEG fez uma receita de US$ 6 bilhões no mesmo período, e opera com uma margem na casa dos 18,7%.  O valor pago pela WEG implica um múltiplo de 7,7x EV/EBITDA do ano passado, em comparação aos 20x que a WEG negocia hoje na Bolsa.  O JP Morgan disse que a aquisição é positiva porque mostra a “capacidade da WEG de continuar crescendo, ainda que inorganicamente, e traz sinergias potenciais importantes (tanto comerciais quanto técnicas e de custo).” O banco nota que, no curto prazo, a transação terá um impacto negativo de 0,8 ponto percentual na margem EBITDA da WEG, dada a margem muito menor da Regal. “Mas vemos um impacto agregado positivo de entre 3% e 4%,” escreveram os analistas.  O CFO da WEG, André Luis Rodrigues, disse que a companhia espera levar a margem EBITDA das operações da Regal para um patamar próximo às margens que a WEG tem neste países e mercados.  Essa melhora nas margens virá das sinergias — com a integração dos negócios — e também de um uso maior da capacidade da Regal. Hoje, as 10 fábricas que estão sendo adquiridas operam com uma ociosidade de cerca de 50%, e a ideia da WEG é levá-las a 100%.  “Teoricamente, temos condições de dobrar o volume produzido hoje apenas com a estrutura que já existe, sem fazer nenhum grande investimento adicional,” disse Kuba.  O executivo ressaltou ainda que há uma oportunidade grande de verticalização de parte dessas operações, com a fundição que a WEG tem no México passando a fornecer produtos para as fábricas da Regal nos EUA e México.  Segundo ele, a fundição no México tem capacidade ociosa que pode ser usada para atender essas novas fábricas, sem precisar de mais capex.  Para a vertical de geradores da WEG, a transação de hoje é um “game changer,” nas palavras de João Paulo da Silva, o diretor da WEG Energia.  “A WEG tem uma posição de liderança em geradores no Brasil, mas no exterior nossa posição era muito pequena. Temos poucos clientes fora do Brasil,” disse ele. “A aquisição da Marathon — que é uma marca consolidada no Canadá e EUA — vai nos posicionar num novo patamar em termos de market share. Vamos passar a ser um player importante no mundo, principalmente na América do Norte.” Assim como em motores industriais, a fábrica de geradores da Regal também estava largamente ociosa. Enquanto em motores a ociosidade tinha a ver com uma falta de foco da Regal nesse segmento, em geradores isso aconteceu porque a companhia construiu recentemente novas fábricas na China e México, com uma capacidade muito maior.\n",
      "A WEG fechou duas parcerias para a autoprodução de energia eólica — um movimento que deve ajudar a gigante industrial a reduzir seus custos com eletricidade ao mesmo tempo em que endereça suas metas de sustentabilidade. A primeira parceria foi feita com a Alupar.  A WEG virou sócia da companhia de transmissão e geração num parque eólico no Rio Grande do Norte, o AW Santa Régia. Esse parque tem capacidade de 37,8 MW e vai começar a operar em janeiro do ano que vem. A WEG fechou um contrato de compra de energia de 18 anos no valor de R$ 460 milhões. O parque vai entregar cerca de 15 MW de energia. O segundo acordo foi feito com a 2W Ecobank, e envolve os parques eólicos Anemus I, II e III, também no Rio Grande do Norte. A WEG fechou um contrato de 20 anos no valor de R$ 970 milhões; os três parques vão entregar 30 MW de energia para a companhia.  Daniel Godinho, o diretor de sustentabilidade e relações institucionais da WEG, disse ao Brazil Journal que os dois projetos vão levar para 90% o uso de energias renováveis nas fábricas da companhia no Brasil. “Também estamos avançando em projetos nas nossas operações no exterior. Na China e na Índia já vamos atingir 50% e 90% de energia renovável, por exemplo,” disse ele. “Com todos esses movimentos, o grupo WEG vai atingir globalmente 75% de consumo de energia com fontes renováveis, em comparação aos 15% de hoje.” A Weg tem 52 fábricas em 15 países e o objetivo da companhia é que 100% de toda a energia usada por elas venha de fontes renováveis no modelo de autogeração.  Segundo Daniel, as parcerias de hoje vão ao encontro das metas de sustentabilidade da WEG, que se comprometeu no ano passado a reduzir em 52% suas emissões de CO2 até 2030 e a chegar à net zero até 2050. Os investimentos, no entanto, também devem ajudar a companhia a reduzir seus custos com energia, como notou o BTG Pactual. “Temos uma visão positiva da iniciativa porque ela visa otimizar os custos de energia em suas fábricas para aumentar a eficiência operacional,” escreveu o analista Lucas Marquiori. “Os custos com energia são um elemento significativo das fábricas da WEG, e as economias que virão com esses projetos podem contribuir para uma geração de valor adicional no longo prazo.” Daniel, da WEG, também disse que um aspecto interessante das duas parcerias é “que fomos capazes de usar nossa própria tecnologia nos projetos.” Tanto o parque da Alupar quanto o da 2w usam aerogeradores produzidos pela WEG. No total, os parques terão 42 aerogeradores.\n",
      "WEG faz parcerias de R$ 1,4 bi em autogeração eólica\n"
     ]
    }
   ],
   "source": [
    "# Traduzindo os textos\n",
    "from googletrans import Translator\n",
    "trans = Translator()\n",
    "lista_texto_traduzido = []\n",
    "for i in range(1,4):\n",
    "    texto = globals()[f'texto_analyze_{i}']\n",
    "    texto_traduzido = trans.translate(texto,dest='en').text\n",
    "    lista_texto_traduzido.append(texto_traduzido)\n",
    "\n"
   ]
  },
  {
   "cell_type": "code",
   "execution_count": 7,
   "metadata": {},
   "outputs": [
    {
     "name": "stdout",
     "output_type": "stream",
     "text": [
      "Weg is buying the industrial engines and generators of Regal Rexnord - the largest M&A in its history, and a transaction that will increase the international presence of the Brazilian company by 20% with strong and niche brands.Weg is valuing Regal's assets - an American company listed on NYSE with Market Cap of $ 9.6 billion - to an Enterprise Value of $ 400 million.Payment will be made in cash as soon as the company obtains regulatory approvals, which is scheduled for the beginning next year.The transaction should not have a relevant impact on WEG's capital structure, which after the disbursement will continue with a net cash position of $ 1 billion.Regal's Carve Out includes 10 factories in seven countries (US, Mexico, China, India, Italy, the Netherlands and Canada), as well as strong brands and a team of about 2,800 employees.Weg said the geographical distribution of assets is complementary to yours, and will help increase business scale and generate cost efficiencies.Most of the operation of the purchased operation comes from the manufacture of low voltage industrial engines (75%), and the rest of electric generators.“There are three very traditional brands in the United States and Europe, and with a lot of adherence with the end client,” Alberto Kuba, the director of Weg Motors Industrial, said in a call with analysts now just.According to him, CEMP and rotor brands have “very interesting” operations of niche engines in the United States and Europe - and the transaction will “help enter markets that are more difficult, such as oil and gas and naval.”“These are markets where Weg already has the products, but as they depend on many local homologations, growth is very slow.Regal has already done this movement years ago, gaining these markets that are difficult to penetrate. ”According to the executive, there is a very low overlap of customers between the two industrial engines operations.In India, for example, WEG recently entered with a combat line of general -use engines.\"With the acquisition we will have a complete portfolio of engines and totally complementary,\" he said.Regal's assets being bought by WEG had net revenue of $ 541 million last year, and ebitda of $ 51 million (9.5%margin).For the purpose of comparison, WEG made a revenue of $ 6 billion in the same period, and operates with a margin in the 18.7%.The amount paid by the WEG implies a multiple of 7.7x EV/EBITDA last year, compared to the 20x that Weg negotiate today on the stock market.JP Morgan said the acquisition is positive because it shows the “Weg ability to continue growing, albeit inorganically, and brings important potential (both commercial and technical and cost) synergies.”The bank notes that, in the short term, the transaction will have a negative impact of 0.8 percentage point on the EBITDA margin of WEG, given the much smaller margin of Regal.\"But we see a positive aggregate impact of between 3% and 4%,\" analysts wrote.Weg's CFO, André Luis Rodrigues, said the company expects to take the Ebitda margin from Regal's operations to a level near the margins that WEG has in these countries and markets.This improvement in the margins will come from synergies - with the integration of business - and also a greater use of Regal's ability.Today, the 10 factories that are being purchased operate with a idleness of about 50%, and the idea of WEG is to take them 100%.“Theoretically, we are able to double the volume produced today with the structure that already exists, without making any major investment,” said Kuba.The executive also stressed that there is a large opportunity for verticalization of these operations, with the foundry that WEG has in Mexico and providing products to Regal's factories in the US and Mexico.According to him, the casting in Mexico has idle capacity that can be used to serve these new factories without more Capex.For the vertical of Weg generators, today's transaction is a “Game Changer,” in the words of João Paulo da Silva, the director of Weg Energia.“Weg has a leadership position in generators in Brazil, but abroad our position was very small.We have few customers outside Brazil, ”he said.“Marathon's acquisition - which is a consolidated brand in Canada and the US - will position us on a new level in terms of market share.Let's become an important player in the world, especially in North America. ”As with industrial engines, the regal generator factory was also widely idle.While on engines, idleness had to do with Regal's lack of focus in this segment, in generators this happened because the company recently built new factories in China and Mexico, with a much larger capacity.\n",
      "Weg has closed two partnerships for wind energy self -production - a movement that should help the giant industrial reduce its electricity costs while addressing its sustainability goals.The first partnership was made with Alupar.Weg became a partner of the transmission and generation company in a wind farm in Rio Grande do Norte, AW Santa Régia.This park has a capacity of 37.8 MW and will start operating in January next year.WEG has signed an 18 -year energy purchase contract in the amount of R $ 460 million.The park will deliver about 15 MW of energy.The second agreement was made with 2W Ecobank, and involves wind farms Anemus I, II and III, also in Rio Grande do Norte.Weg signed a 20 -year contract in the amount of R $ 970 million;The three parks will deliver 30 MW of energy to the company.Daniel Godinho, the director of Sustainability and Institutional Relations of WEG, told Brazil Journal that the two projects will bring to 90% the use of renewable energy in the company's factories in Brazil.“We are also advancing in projects in our operations abroad.In China and India we will reach 50% and 90% renewable energy, for example, ”he said.“With all these movements, the WEG group will reach 75% of energy consumption with renewable sources compared to today's 15%.”WEG has 52 factories in 15 countries and the company's goal is that 100% of all the energy used by them from renewable sources in the self -management model.According to Daniel, today's partnerships meet Weg's sustainability goals, which committed last year to reduce its CO2 emissions by 52% by 2030 and reach Net Zero by 2050. Investments, however, also, alsoThey should help the company reduce their energy costs, as noted by BTG Pactual.“We have a positive view of the initiative because it aims to optimize energy costs in its factories to increase operational efficiency,” wrote analyst Lucas Marquiori.“Energy costs are a significant element of WEG factories, and the economies that will come with these projects can contribute to an additional long -term generation of value.”Weg's Daniel also said that an interesting aspect of both partnerships is “that we were able to use our own technology in projects.”Both Alupar and 2W Park use Words produced by WEG.In total, the parks will have 42 wind turbines.\n",
      "Weg makes partnerships of R $ 1.4 billion in wind self -generation\n"
     ]
    }
   ],
   "source": [
    "for texto_traduzido in lista_texto_traduzido:\n",
    "    print(texto_traduzido)"
   ]
  },
  {
   "cell_type": "markdown",
   "metadata": {},
   "source": [
    "### FinBert"
   ]
  },
  {
   "cell_type": "code",
   "execution_count": 5,
   "metadata": {},
   "outputs": [
    {
     "name": "stderr",
     "output_type": "stream",
     "text": [
      "/home/bernardo/.local/lib/python3.10/site-packages/tqdm/auto.py:21: TqdmWarning: IProgress not found. Please update jupyter and ipywidgets. See https://ipywidgets.readthedocs.io/en/stable/user_install.html\n",
      "  from .autonotebook import tqdm as notebook_tqdm\n",
      "2024-01-08 00:24:29.677995: I tensorflow/tsl/cuda/cudart_stub.cc:28] Could not find cuda drivers on your machine, GPU will not be used.\n",
      "2024-01-08 00:24:29.704935: E tensorflow/compiler/xla/stream_executor/cuda/cuda_dnn.cc:9342] Unable to register cuDNN factory: Attempting to register factory for plugin cuDNN when one has already been registered\n",
      "2024-01-08 00:24:29.704964: E tensorflow/compiler/xla/stream_executor/cuda/cuda_fft.cc:609] Unable to register cuFFT factory: Attempting to register factory for plugin cuFFT when one has already been registered\n",
      "2024-01-08 00:24:29.704998: E tensorflow/compiler/xla/stream_executor/cuda/cuda_blas.cc:1518] Unable to register cuBLAS factory: Attempting to register factory for plugin cuBLAS when one has already been registered\n",
      "2024-01-08 00:24:29.711535: I tensorflow/tsl/cuda/cudart_stub.cc:28] Could not find cuda drivers on your machine, GPU will not be used.\n",
      "2024-01-08 00:24:29.712217: I tensorflow/core/platform/cpu_feature_guard.cc:182] This TensorFlow binary is optimized to use available CPU instructions in performance-critical operations.\n",
      "To enable the following instructions: AVX2 FMA, in other operations, rebuild TensorFlow with the appropriate compiler flags.\n",
      "2024-01-08 00:24:30.397897: W tensorflow/compiler/tf2tensorrt/utils/py_utils.cc:38] TF-TRT Warning: Could not find TensorRT\n"
     ]
    }
   ],
   "source": [
    "from transformers import BertTokenizer, BertForSequenceClassification\n",
    "from transformers import pipeline\n",
    "\n",
    "finbert = BertForSequenceClassification.from_pretrained('yiyanghkust/finbert-tone',num_labels=3)\n",
    "tokenizer = BertTokenizer.from_pretrained('yiyanghkust/finbert-tone')\n",
    "\n",
    "nlp = pipeline(\"sentiment-analysis\", model=finbert, tokenizer=tokenizer)\n",
    "\n",
    "#fonte: https://huggingface.co/yiyanghkust/finbert-tone"
   ]
  },
  {
   "cell_type": "markdown",
   "metadata": {},
   "source": [
    "### NTLK\n"
   ]
  },
  {
   "cell_type": "code",
   "execution_count": 12,
   "metadata": {},
   "outputs": [
    {
     "name": "stderr",
     "output_type": "stream",
     "text": [
      "[nltk_data] Downloading package vader_lexicon to\n",
      "[nltk_data]     /home/bernardo/nltk_data...\n",
      "[nltk_data]   Package vader_lexicon is already up-to-date!\n"
     ]
    }
   ],
   "source": [
    "import nltk\n",
    "### Uncomment it when the script runs for the first time \n",
    "nltk.download('vader_lexicon')\n",
    "from nltk.sentiment.vader import SentimentIntensityAnalyzer\n",
    "sia = SentimentIntensityAnalyzer()\n",
    "\n",
    "\n",
    "\n",
    "#  Podemos acrescentar pesos para palavras no modelo:\n",
    "# new_words = {\n",
    "#     'crushes': 10,\n",
    "#     'bate': 5,\n",
    "#     'problema': -10,\n",
    "#     'queda': -100,\n",
    "# }\n",
    "# sia.lexicon.update(new_words)"
   ]
  },
  {
   "cell_type": "code",
   "execution_count": 15,
   "metadata": {},
   "outputs": [
    {
     "name": "stdout",
     "output_type": "stream",
     "text": [
      "noticia 1 {'neg': 0.026, 'neu': 0.959, 'pos': 0.014, 'compound': -0.7066}\n",
      "noticia 2 {'neg': 0.059, 'neu': 0.941, 'pos': 0.0, 'compound': -0.9595}\n",
      "noticia 3 {'neg': 0.0, 'neu': 1.0, 'pos': 0.0, 'compound': 0.0}\n",
      "{'neg': 0.031, 'neu': 0.892, 'pos': 0.077, 'compound': 0.9821}\n",
      "{'neg': 0.0, 'neu': 0.881, 'pos': 0.119, 'compound': 0.9887}\n",
      "{'neg': 0.0, 'neu': 1.0, 'pos': 0.0, 'compound': 0.0}\n"
     ]
    }
   ],
   "source": [
    "\n",
    "sentiment = sia.polarity_scores(texto_analyze_1)\n",
    "sentiment_2 = sia.polarity_scores(texto_analyze_2)\n",
    "sentiment_3 = sia.polarity_scores(texto_analyze_3)\n",
    "\n",
    "print('noticia 1', sentiment)\n",
    "print('noticia 2', sentiment_2)\n",
    "print('noticia 3', sentiment_3)\n",
    "for texto_traduzido in lista_texto_traduzido:\n",
    "    print(sia.polarity_scores(texto_traduzido))"
   ]
  },
  {
   "cell_type": "markdown",
   "metadata": {},
   "source": [
    "### Api GPT4 para Análise Sentimento (Só dá para usar o pago)"
   ]
  },
  {
   "cell_type": "code",
   "execution_count": 10,
   "metadata": {},
   "outputs": [],
   "source": [
    "import openai\n",
    "with open('./api_key_chatgpt.txt', 'r') as arquivo:\n",
    "    api_key = arquivo.read()\n",
    "\n",
    "#Arguemntos para call da api:\n",
    "openai.api_key = api_key\n",
    "model = 'text-davinci=003' \n",
    "texto_to_analyze = 'WEG faz sua maior aquisição; investe R$ 2 bi para crescer em motores e geradores'\n",
    "completion = openai.completions.create(model=model,\n",
    "                                      prompt=(f\"Sentiment analysis of the following text: '{texto_to_analyze}' \\n\\nSentiment Score: \"),\n",
    "                                      max_tokens=1,\n",
    "                                      temperature=0\n",
    "                                      )\n",
    "\n",
    "#Fonte: https://www.youtube.com/watch?v=Vps-0LEa9SA&t=366s"
   ]
  }
 ],
 "metadata": {
  "kernelspec": {
   "display_name": "Python 3",
   "language": "python",
   "name": "python3"
  },
  "language_info": {
   "codemirror_mode": {
    "name": "ipython",
    "version": 3
   },
   "file_extension": ".py",
   "mimetype": "text/x-python",
   "name": "python",
   "nbconvert_exporter": "python",
   "pygments_lexer": "ipython3",
   "version": "3.10.12"
  }
 },
 "nbformat": 4,
 "nbformat_minor": 2
}
